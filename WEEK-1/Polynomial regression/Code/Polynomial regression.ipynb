{
 "cells": [
  {
   "cell_type": "markdown",
   "metadata": {},
   "source": [
    "Libraries"
   ]
  },
  {
   "cell_type": "code",
   "execution_count": 2,
   "metadata": {},
   "outputs": [],
   "source": [
    "import pandas as pd\n",
    "import numpy as np\n",
    "from sklearn.model_selection import cross_val_score\n",
    "from sklearn.preprocessing import PolynomialFeatures\n",
    "from sklearn.linear_model import LinearRegression\n",
    "from sklearn.pipeline import make_pipeline\n",
    "import matplotlib.pyplot as plt\n"
   ]
  },
  {
   "cell_type": "markdown",
   "metadata": {},
   "source": [
    "Load datset"
   ]
  },
  {
   "cell_type": "code",
   "execution_count": 3,
   "metadata": {},
   "outputs": [],
   "source": [
    "file_path = \"DS (1).csv\"  \n",
    "df = pd.read_csv(file_path)"
   ]
  },
  {
   "cell_type": "markdown",
   "metadata": {},
   "source": [
    "Declaring dependent and independent "
   ]
  },
  {
   "cell_type": "code",
   "execution_count": 5,
   "metadata": {},
   "outputs": [],
   "source": [
    "v=input(\"Independent Variable\")\n",
    "w=input(\"Dependent variable\")\n",
    "\n",
    "X = df[[v]].values\n",
    "y = df[w].values"
   ]
  },
  {
   "cell_type": "markdown",
   "metadata": {},
   "source": [
    "Finding the best Polynomial degree\n",
    "\n",
    "        Using Cross Validation cv=5-folds"
   ]
  },
  {
   "cell_type": "code",
   "execution_count": 6,
   "metadata": {},
   "outputs": [],
   "source": [
    "best_degree = 3\n",
    "best_score = float('-inf')\n",
    "degrees = range(1, 10) \n",
    "\n",
    "for d in degrees:\n",
    "    model = make_pipeline(PolynomialFeatures(d), LinearRegression())\n",
    "    scores = cross_val_score(model, X, y, cv=5, scoring=\"r2\")\n",
    "    avg_score = np.mean(scores)\n",
    "    \n",
    "    if avg_score > best_score:\n",
    "        best_score = avg_score\n",
    "        best_degree = d"
   ]
  },
  {
   "cell_type": "markdown",
   "metadata": {},
   "source": [
    "Training Model"
   ]
  },
  {
   "cell_type": "code",
   "execution_count": 7,
   "metadata": {},
   "outputs": [],
   "source": [
    "final_model = make_pipeline(PolynomialFeatures(best_degree), LinearRegression())\n",
    "final_model.fit(X, y)\n",
    "\n",
    "X_range = np.linspace(X.min(), X.max(), 100).reshape(-1, 1)\n",
    "y_pred = final_model.predict(X_range)\n"
   ]
  },
  {
   "cell_type": "markdown",
   "metadata": {},
   "source": [
    "Result"
   ]
  },
  {
   "cell_type": "code",
   "execution_count": 8,
   "metadata": {},
   "outputs": [
    {
     "name": "stdout",
     "output_type": "stream",
     "text": [
      "Best Polynomial Degree: 3\n",
      "Best R^2 Score: 0.6478\n"
     ]
    }
   ],
   "source": [
    "print(f'Best Polynomial Degree: {best_degree}')\n",
    "print(f'Best R^2 Score: {best_score:.4f}')"
   ]
  },
  {
   "cell_type": "markdown",
   "metadata": {},
   "source": [
    "Graph"
   ]
  },
  {
   "cell_type": "code",
   "execution_count": null,
   "metadata": {},
   "outputs": [],
   "source": [
    "plt.figure(figsize=(10, 6))\n",
    "plt.scatter(X, y, color='blue', label='Actual Data')\n",
    "plt.plot(X_range, y_pred, color='red', linewidth=2, label=f'Polynomial Regression (Degree {best_degree})')\n",
    "plt.xlabel(v)\n",
    "plt.ylabel(w)\n",
    "plt.legend()\n",
    "plt.title('Polynomial Regression Fit')\n",
    "plt.grid()\n",
    "plt.show()\n",
    "\n"
   ]
  },
  {
   "cell_type": "markdown",
   "metadata": {},
   "source": [
    "Import Required Libraries\n",
    "\n",
    "Load the Dataset\n",
    "\n",
    "Select Independent and Dependent Variables\n",
    "\n",
    "Find the Best Polynomial Degree Using Cross-Validation\n",
    "\n",
    "\n",
    "Uses cross-validation (cv=5) to evaluate models.\n",
    "\n",
    "Selects the degree with the highest average R² score.\n",
    "\n",
    "Train the Final Model\n",
    "\n",
    "Builds a polynomial regression model using the best degree.\n",
    "\n",
    "Generate Predictions for Plotting\n",
    "\n"
   ]
  }
 ],
 "metadata": {
  "kernelspec": {
   "display_name": "Python 3",
   "language": "python",
   "name": "python3"
  },
  "language_info": {
   "codemirror_mode": {
    "name": "ipython",
    "version": 3
   },
   "file_extension": ".py",
   "mimetype": "text/x-python",
   "name": "python",
   "nbconvert_exporter": "python",
   "pygments_lexer": "ipython3",
   "version": "3.10.11"
  }
 },
 "nbformat": 4,
 "nbformat_minor": 2
}
